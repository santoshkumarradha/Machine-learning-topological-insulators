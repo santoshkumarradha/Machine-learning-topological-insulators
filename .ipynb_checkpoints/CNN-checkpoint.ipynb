{
 "cells": [
  {
   "cell_type": "code",
   "execution_count": 966,
   "metadata": {},
   "outputs": [],
   "source": [
    "from pythtb import *\n",
    "import numpy as np\n",
    "from tqdm import tqdm  as tqdm\n",
    "import matplotlib.pyplot as plt"
   ]
  },
  {
   "cell_type": "code",
   "execution_count": 873,
   "metadata": {},
   "outputs": [],
   "source": [
    "def get_model(delta=0.2,theta=np.pi/2):\n",
    "    lat=[[1.0,0.0],[0.5,np.sqrt(3.0)/2.0]]\n",
    "    orb=[[1./3.,1./3.],[2./3.,2./3.]]\n",
    "\n",
    "    my_model=tb_model(2,2,lat,orb)\n",
    "\n",
    "    t=-1.0\n",
    "    t2 =.1*np.exp((1.j)*theta)\n",
    "    t2c=t2.conjugate()\n",
    "\n",
    "    # set on-site energies\n",
    "    my_model.set_onsite([-delta,delta])\n",
    "    my_model.set_hop(t, 0, 1, [ 0, 0])\n",
    "    my_model.set_hop(t, 1, 0, [ 1, 0])\n",
    "    my_model.set_hop(t, 1, 0, [ 0, 1])\n",
    "    my_model.set_hop(t2 , 0, 0, [ 1, 0])\n",
    "    my_model.set_hop(t2 , 1, 1, [ 1,-1])\n",
    "    my_model.set_hop(t2 , 1, 1, [ 0, 1])\n",
    "    my_model.set_hop(t2c, 1, 1, [ 1, 0])\n",
    "    my_model.set_hop(t2c, 0, 0, [ 1,-1])\n",
    "    my_model.set_hop(t2c, 0, 0, [ 0, 1])\n",
    "    return my_model"
   ]
  },
  {
   "cell_type": "code",
   "execution_count": 800,
   "metadata": {},
   "outputs": [],
   "source": [
    "# get evec for model\n",
    "def get_wav(my_model,nk=10):\n",
    "    k_vec = my_model.k_uniform_mesh([nk,nk])\n",
    "    evals,evec=my_model.solve_all(k_vec,eig_vectors=True)\n",
    "    return evec\n",
    "\n",
    "#reshape evec in nk,nk,(nbnd/2 * norb *2) [*2 for real and im part]\n",
    "def reshape_evec(evec,phase=True):\n",
    "    nk=int(np.sqrt(evec.shape[1]))\n",
    "    nbnd=norb=evec.shape[0]\n",
    "    evec=np.swapaxes(evec,0,1)\n",
    "    evec_new=evec.reshape(nk,nk,nbnd,norb)\n",
    "    a=[]\n",
    "    b=[]\n",
    "    for i in range(int(nbnd/2)):\n",
    "        for j in range(norb):\n",
    "            if phase:\n",
    "                a.append(np.angle(evec_new[:,:,i,j]))\n",
    "                a.append(np.absolute(evec_new[:,:,i,j]))\n",
    "            else:\n",
    "                a.append(np.real(evec_new[:,:,i,j]))\n",
    "                a.append(np.imag(evec_new[:,:,i,j]))\n",
    "                \n",
    "    a=np.array(a).T\n",
    "    return a\n",
    "def get_chern(my_model,nk=8):\n",
    "    nkx=nk=nk\n",
    "    kx=np.linspace(-0.5,0.5,num=nkx)\n",
    "    ky=np.linspace(-0.5,0.5,num=nky)\n",
    "    my_array_2=wf_array(my_model,[nkx,nky])\n",
    "    # solve model at all k-points\n",
    "    for i in range(nkx):\n",
    "        for j in range(nky):\n",
    "            (eval,evec)=my_model.solve_one([kx[i],ky[j]],eig_vectors=True)\n",
    "            # store wavefunctions\n",
    "            my_array_2[i,j]=evec\n",
    "    my_array_2.impose_pbc(0,0)\n",
    "    my_array_2.impose_pbc(1,1)\n",
    "    return np.round(my_array_2.berry_flux([0])/(2*np.pi))"
   ]
  },
  {
   "cell_type": "code",
   "execution_count": 426,
   "metadata": {},
   "outputs": [
    {
     "data": {
      "text/plain": [
       "<matplotlib.colorbar.Colorbar at 0x1a482c7a90>"
      ]
     },
     "execution_count": 426,
     "metadata": {},
     "output_type": "execute_result"
    },
    {
     "data": {
      "image/png": "[encoded data removed]",
      "text/plain": [
       "<Figure size 432x288 with 2 Axes>"
      ]
     },
     "metadata": {
      "needs_background": "light"
     },
     "output_type": "display_data"
    }
   ],
   "source": [
    "my_model=get_model(delta=.9,theta=np.pi/2)\n",
    "evec=get_wav(my_model,nk)\n",
    "z=reshape_evec(evec,phase=False)\n",
    "plt.contourf(z[:,:,1],cmap=\"RdYlBu\")\n",
    "plt.colorbar()"
   ]
  },
  {
   "cell_type": "code",
   "execution_count": 25,
   "metadata": {},
   "outputs": [],
   "source": [
    "from keras.models import Sequential\n",
    "from keras.layers import Conv2D, MaxPooling2D\n",
    "from keras.layers import Activation, Flatten, Dense, Dropout\n",
    "from keras.utils import to_categorical\n",
    "from keras.preprocessing.image import ImageDataGenerator\n",
    "from sklearn.model_selection import train_test_split\n",
    "import time"
   ]
  },
  {
   "cell_type": "markdown",
   "metadata": {},
   "source": [
    "# data creation"
   ]
  },
  {
   "cell_type": "code",
   "execution_count": 1026,
   "metadata": {},
   "outputs": [],
   "source": [
    "def process_y(Y):\n",
    "    from sklearn import preprocessing\n",
    "    enc = preprocessing.OneHotEncoder()\n",
    "    enc.fit(np.array(Y).reshape(-1, 1))\n",
    "    return enc,enc.transform(np.array(Y).reshape(-1, 1)).toarray()"
   ]
  },
  {
   "cell_type": "code",
   "execution_count": 1032,
   "metadata": {},
   "outputs": [
    {
     "data": {
      "application/vnd.jupyter.widget-view+json": {
       "model_id": "61d71b684c8641c696695379f4cb7d55",
       "version_major": 2,
       "version_minor": 0
      },
      "text/plain": [
       "HBox(children=(FloatProgress(value=1.0, bar_style='info', max=1.0), HTML(value='')))"
      ]
     },
     "metadata": {},
     "output_type": "display_data"
    },
    {
     "name": "stdout",
     "output_type": "stream",
     "text": [
      "\n",
      "\n"
     ]
    }
   ],
   "source": [
    "nk=10\n",
    "num=500\n",
    "norb=get_model().get_num_orbitals()\n",
    "X=np.zeros((num,nk,nk,norb*norb))\n",
    "Y=[]\n",
    "choosen_t=[]\n",
    "choosen_theta=[]\n",
    "for i,j in tqdm(enumerate(np.linspace(0,1,num))):\n",
    "    theta=np.random.uniform(low=0, high=2*np.pi)\n",
    "    t=np.random.uniform(low=-2, high=2)\n",
    "    my_model=get_model(delta=t,theta=theta)\n",
    "    evec=get_wav(my_model,nk)\n",
    "    X[i]=reshape_evec(evec,phase=False)\n",
    "    Y.append(get_chern(my_model))\n",
    "    choosen_t.append(t)\n",
    "    choosen_theta.append(theta)\n",
    "#[band,kpoint,orbital]"
   ]
  },
  {
   "cell_type": "code",
   "execution_count": 1033,
   "metadata": {},
   "outputs": [],
   "source": [
    "X_train, X_test, y_train, y_test = train_test_split(X,Y, test_size=0.2)\n",
    "encoder,y_train = process_y(y_train)\n",
    "_,y_test = process_y(y_test)"
   ]
  },
  {
   "cell_type": "code",
   "execution_count": 1034,
   "metadata": {
    "jupyter": {
     "source_hidden": true
    }
   },
   "outputs": [],
   "source": [
    "cnn = Sequential()\n",
    "\n",
    "cnn = Sequential()\n",
    "cnn.add(Conv2D(filters=10, \n",
    "               kernel_size=(2,2), \n",
    "               strides=(1,1),\n",
    "               padding='same',\n",
    "               input_shape=(nk,nk,int(norb/2 * norb)*2),\n",
    "               data_format='channels_last'))\n",
    "cnn.add(Activation('relu'))\n",
    "cnn.add(MaxPooling2D(pool_size=(2,2),\n",
    "                     strides=2))\n",
    "cnn.add(Conv2D(filters=10,\n",
    "               kernel_size=(2,2),\n",
    "               strides=(1,1),\n",
    "               padding='valid'))\n",
    "cnn.add(Activation('relu'))\n",
    "cnn.add(MaxPooling2D(pool_size=(2,2),\n",
    "                     strides=2))\n",
    "cnn.add(Flatten())        \n",
    "cnn.add(Dense(10))\n",
    "cnn.add(Activation('relu'))\n",
    "cnn.add(Dropout(0.25))\n",
    "cnn.add(Dense(2))\n",
    "cnn.add(Activation('sigmoid'))\n",
    "\n",
    "\n",
    "\n",
    "cnn.compile(loss='binary_crossentropy', optimizer='rmsprop', metrics=['accuracy'])"
   ]
  },
  {
   "cell_type": "code",
   "execution_count": 523,
   "metadata": {
    "collapsed": true,
    "jupyter": {
     "outputs_hidden": true,
     "source_hidden": true
    }
   },
   "outputs": [
    {
     "name": "stdout",
     "output_type": "stream",
     "text": [
      "Train on 400 samples, validate on 100 samples\n",
      "Epoch 1/20\n",
      "400/400 [==============================] - 0s 473us/step - loss: 0.2347 - accuracy: 0.8600 - val_loss: 0.1301 - val_accuracy: 0.9750\n",
      "Epoch 2/20\n",
      "400/400 [==============================] - 0s 214us/step - loss: 0.2044 - accuracy: 0.8712 - val_loss: 0.1084 - val_accuracy: 0.9700\n",
      "Epoch 3/20\n",
      "400/400 [==============================] - 0s 222us/step - loss: 0.1972 - accuracy: 0.8612 - val_loss: 0.0978 - val_accuracy: 0.9650\n",
      "Epoch 4/20\n",
      "400/400 [==============================] - 0s 200us/step - loss: 0.1838 - accuracy: 0.8700 - val_loss: 0.0892 - val_accuracy: 0.9650\n",
      "Epoch 5/20\n",
      "400/400 [==============================] - 0s 226us/step - loss: 0.1668 - accuracy: 0.8763 - val_loss: 0.0815 - val_accuracy: 0.9600\n",
      "Epoch 6/20\n",
      "400/400 [==============================] - 0s 203us/step - loss: 0.1833 - accuracy: 0.8550 - val_loss: 0.0775 - val_accuracy: 0.9600\n",
      "Epoch 7/20\n",
      "400/400 [==============================] - 0s 195us/step - loss: 0.1581 - accuracy: 0.8788 - val_loss: 0.0609 - val_accuracy: 0.9800\n",
      "Epoch 8/20\n",
      "400/400 [==============================] - 0s 219us/step - loss: 0.1540 - accuracy: 0.8750 - val_loss: 0.0798 - val_accuracy: 0.9600\n",
      "Epoch 9/20\n",
      "400/400 [==============================] - 0s 193us/step - loss: 0.1682 - accuracy: 0.8700 - val_loss: 0.0677 - val_accuracy: 0.9650\n",
      "Epoch 10/20\n",
      "400/400 [==============================] - 0s 188us/step - loss: 0.1521 - accuracy: 0.8950 - val_loss: 0.0796 - val_accuracy: 0.9600\n",
      "Epoch 11/20\n",
      "400/400 [==============================] - 0s 211us/step - loss: 0.1413 - accuracy: 0.9062 - val_loss: 0.0645 - val_accuracy: 0.9600\n",
      "Epoch 12/20\n",
      "400/400 [==============================] - 0s 187us/step - loss: 0.1264 - accuracy: 0.9287 - val_loss: 0.0681 - val_accuracy: 0.9600\n",
      "Epoch 13/20\n",
      "400/400 [==============================] - 0s 183us/step - loss: 0.1437 - accuracy: 0.9325 - val_loss: 0.0717 - val_accuracy: 0.9600\n",
      "Epoch 14/20\n",
      "400/400 [==============================] - 0s 189us/step - loss: 0.1127 - accuracy: 0.9438 - val_loss: 0.0436 - val_accuracy: 0.9750\n",
      "Epoch 15/20\n",
      "400/400 [==============================] - 0s 180us/step - loss: 0.1223 - accuracy: 0.9675 - val_loss: 0.0571 - val_accuracy: 0.9650\n",
      "Epoch 16/20\n",
      "400/400 [==============================] - 0s 284us/step - loss: 0.1177 - accuracy: 0.9638 - val_loss: 0.0660 - val_accuracy: 0.9600\n",
      "Epoch 17/20\n",
      "400/400 [==============================] - 0s 382us/step - loss: 0.1112 - accuracy: 0.9688 - val_loss: 0.0648 - val_accuracy: 0.9600\n",
      "Epoch 18/20\n",
      "400/400 [==============================] - 0s 198us/step - loss: 0.1126 - accuracy: 0.9725 - val_loss: 0.0529 - val_accuracy: 0.9700\n",
      "Epoch 19/20\n",
      "400/400 [==============================] - 0s 203us/step - loss: 0.1106 - accuracy: 0.9650 - val_loss: 0.0421 - val_accuracy: 0.9750\n",
      "Epoch 20/20\n",
      "400/400 [==============================] - 0s 196us/step - loss: 0.0957 - accuracy: 0.9688 - val_loss: 0.0447 - val_accuracy: 0.9750\n",
      "Processing time: 0.03102246125539144\n"
     ]
    }
   ],
   "source": [
    "start = time.time()\n",
    "history=cnn.fit(X_train, y_train, validation_data=(X_test, y_test), epochs=20)\n",
    "end = time.time()\n",
    "print('Processing time:',(end - start)/60)\n",
    "cnn.save_weights('cnn_baseline.h5')"
   ]
  },
  {
   "cell_type": "code",
   "execution_count": 1035,
   "metadata": {},
   "outputs": [],
   "source": [
    "model = Sequential()\n",
    "model.add(Conv2D(10, kernel_size=2, activation=\"relu\", input_shape=(nk,nk,int(norb/2 * norb)*2)))\n",
    "model.add(Dropout(0.4))\n",
    "model.add(Conv2D(5, kernel_size=2, activation=\"relu\"))\n",
    "model.add(Dropout(0.4))\n",
    "model.add(Flatten())\n",
    "model.add(Dense(3, activation=\"softmax\"))\n",
    "model.compile(optimizer='adam', loss='categorical_crossentropy', metrics=['accuracy'])"
   ]
  },
  {
   "cell_type": "code",
   "execution_count": 1036,
   "metadata": {},
   "outputs": [
    {
     "name": "stdout",
     "output_type": "stream",
     "text": [
      "Processing time: -121.02401405175527\n"
     ]
    }
   ],
   "source": [
    "start = time.time()\n",
    "history=model.fit(X_train, y_train, validation_data=(X_test, y_test), epochs=200,verbose=0)\n",
    "print('Processing time:',(end - start)/60)"
   ]
  },
  {
   "cell_type": "code",
   "execution_count": 647,
   "metadata": {
    "collapsed": true,
    "jupyter": {
     "outputs_hidden": true,
     "source_hidden": true
    }
   },
   "outputs": [
    {
     "name": "stdout",
     "output_type": "stream",
     "text": [
      "Train: 0.990, Test: 0.978\n"
     ]
    }
   ],
   "source": [
    "_, train_acc = cnn.evaluate(X_train, y_train, verbose=0)\n",
    "_, test_acc = cnn.evaluate(X_test, y_test, verbose=0)\n",
    "print('Train: %.3f, Test: %.3f' % (train_acc, test_acc))"
   ]
  },
  {
   "cell_type": "code",
   "execution_count": 1037,
   "metadata": {},
   "outputs": [
    {
     "data": {
      "image/png": "[encoded data removed]",
      "text/plain": [
       "<Figure size 432x288 with 1 Axes>"
      ]
     },
     "metadata": {
      "needs_background": "light"
     },
     "output_type": "display_data"
    }
   ],
   "source": [
    "plt.plot(history.history['loss'], label='train')\n",
    "plt.plot(history.history['val_loss'], label='test')\n",
    "plt.xlabel(\"Epoch\")\n",
    "plt.legend()\n",
    "plt.show()"
   ]
  },
  {
   "cell_type": "code",
   "execution_count": 955,
   "metadata": {},
   "outputs": [
    {
     "name": "stderr",
     "output_type": "stream",
     "text": [
      "80it [00:02, 32.77it/s]\n"
     ]
    }
   ],
   "source": [
    "num=80\n",
    "norb=get_model().get_num_orbitals()\n",
    "X1=np.zeros((num,nk,nk,norb*norb))\n",
    "Y1=[]\n",
    "Y_actual=[]\n",
    "for i,j in tqdm(enumerate(np.linspace(-1,1,num))):\n",
    "    my_model=get_model(delta=j,theta=np.pi/1.2)\n",
    "    evec=get_wav(my_model,nk)\n",
    "    X1[i]=reshape_evec(evec,phase=False)\n",
    "    Y1.append(j)\n",
    "    Y_actual.append(get_chern(my_model))\n",
    "#[band,kpoint,orbital]"
   ]
  },
  {
   "cell_type": "code",
   "execution_count": 1022,
   "metadata": {
    "collapsed": true,
    "jupyter": {
     "outputs_hidden": true,
     "source_hidden": true
    }
   },
   "outputs": [
    {
     "data": {
      "text/plain": [
       "[<matplotlib.lines.Line2D at 0x1a463ebd10>]"
      ]
     },
     "execution_count": 1022,
     "metadata": {},
     "output_type": "execute_result"
    },
    {
     "data": {
      "image/png": "[encoded data removed]",
      "text/plain": [
       "<Figure size 432x288 with 2 Axes>"
      ]
     },
     "metadata": {
      "needs_background": "light"
     },
     "output_type": "display_data"
    }
   ],
   "source": [
    "fig,ax=plt.subplots()\n",
    "predict=encoder.inverse_transform(model.predict(X1))\n",
    "# ax.scatter(Y1,model.predict(X1).T[0],s=10,alpha=0.5)\n",
    "# ax.scatter(Y1,model.predict(X1).T[1],s=10,alpha=0.5)\n",
    "ax1=ax.twinx()\n",
    "ax1.scatter(Y1,predict,color=\"red\")\n",
    "ax1.plot(Y1,Y_actual,c=\"k\",ls=\"-.\",lw=2)"
   ]
  },
  {
   "cell_type": "code",
   "execution_count": 1038,
   "metadata": {},
   "outputs": [
    {
     "data": {
      "application/vnd.jupyter.widget-view+json": {
       "model_id": "8f534ea7b3ed48668b6f3358578447e9",
       "version_major": 2,
       "version_minor": 0
      },
      "text/plain": [
       "HBox(children=(FloatProgress(value=0.0, max=50.0), HTML(value='')))"
      ]
     },
     "metadata": {},
     "output_type": "display_data"
    },
    {
     "name": "stdout",
     "output_type": "stream",
     "text": [
      "\n"
     ]
    }
   ],
   "source": [
    "from tqdm.auto import tqdm as tqdm\n",
    "num=50\n",
    "norb=get_model().get_num_orbitals()\n",
    "val=[]\n",
    "val_actual=[]\n",
    "theta=np.linspace(0,np.pi*2,num)\n",
    "t=np.linspace(-2,2,num)\n",
    "cnt=0\n",
    "for i in tqdm(t, position=0):\n",
    "    for j in theta:\n",
    "        my_model=get_model(delta=i,theta=j)\n",
    "        evec=get_wav(my_model,nk)\n",
    "        test=reshape_evec(evec,phase=False)\n",
    "        pred=model.predict([[test]])\n",
    "        O=np.array([-1,0,1])\n",
    "        val.append(np.sum(np.multiply(O,pred)))\n",
    "        val_actual.append(get_chern(my_model))\n",
    "#[band,kpoint,orbital]"
   ]
  },
  {
   "cell_type": "code",
   "execution_count": 1055,
   "metadata": {},
   "outputs": [
    {
     "data": {
      "image/png": "[encoded data removed]",
      "text/plain": [
       "<Figure size 648x288 with 4 Axes>"
      ]
     },
     "metadata": {
      "needs_background": "light"
     },
     "output_type": "display_data"
    }
   ],
   "source": [
    "fig,ax=plt.subplots(1,2,figsize=(9,4))\n",
    "r=ax[1].contourf(theta,t,np.array(val).reshape(num,num),90,cmap=\"RdBu\",vmin=-.8,vmax=.8)\n",
    "plt.colorbar(r,ax=ax[1],label=\"Chern number\")\n",
    "\n",
    "\n",
    "r=ax[0].contourf(theta,t,np.array(val_actual).reshape(num,num),90,cmap=\"RdBu\",vmin=-.8,vmax=.8)\n",
    "plt.colorbar(r,ax=ax[0],label=\"Chern number\")\n",
    "ax[0].scatter(choosen_theta[:300],choosen_t[:300],s=5,alpha=1,c=\"y\",label=\"training set\")\n",
    "ax[0].legend()\n",
    "\n",
    "ax[0].set_title(\"Chern calculation\")\n",
    "ax[1].set_title(\"CNN prediction\")\n",
    "for i in ax:\n",
    "    i.set_xlabel(\"$\\\\theta$\")\n",
    "    i.set_ylabel(\"$t_1$\")\n",
    "plt.tight_layout()\n",
    "plt.savefig(\"figs/CNN_model_real_imag.png\",dpi=500)\n",
    "plt.show()"
   ]
  },
  {
   "cell_type": "code",
   "execution_count": 996,
   "metadata": {},
   "outputs": [
    {
     "data": {
      "text/plain": [
       "-0.81"
      ]
     },
     "execution_count": 996,
     "metadata": {},
     "output_type": "execute_result"
    }
   ],
   "source": [
    "vec=np.array([0,0,.9])#model.predict([[test]])\n",
    "O=[[1,0,0],[0,0,0],[0,0,-1]]\n",
    "vec@O@vec.T"
   ]
  },
  {
   "cell_type": "code",
   "execution_count": 1007,
   "metadata": {},
   "outputs": [
    {
     "data": {
      "text/plain": [
       "0.9"
      ]
     },
     "execution_count": 1007,
     "metadata": {},
     "output_type": "execute_result"
    }
   ],
   "source": [
    "vec=np.array([0,.0,.9])#model.predict([[test]])\n",
    "O=np.array([-1,0,1])\n",
    "np.sum(np.multiply(O,vec))"
   ]
  },
  {
   "cell_type": "code",
   "execution_count": null,
   "metadata": {},
   "outputs": [],
   "source": []
  }
 ],
 "metadata": {
  "kernelspec": {
   "display_name": "Python 3",
   "language": "python",
   "name": "python3"
  },
  "language_info": {
   "codemirror_mode": {
    "name": "ipython",
    "version": 3
   },
   "file_extension": ".py",
   "mimetype": "text/x-python",
   "name": "python",
   "nbconvert_exporter": "python",
   "pygments_lexer": "ipython3",
   "version": "3.7.7"
  }
 },
 "nbformat": 4,
 "nbformat_minor": 4
}
